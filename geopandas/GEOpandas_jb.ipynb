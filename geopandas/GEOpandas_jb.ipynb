{
 "cells": [
  {
   "cell_type": "code",
   "execution_count": 1,
   "metadata": {},
   "outputs": [],
   "source": [
    "import pandas as pd\n",
    "import geopandas as gpd\n",
    "import matplotlib.pyplot as plt\n",
    "from shapely.geometry import Polygon"
   ]
  },
  {
   "cell_type": "markdown",
   "metadata": {},
   "source": [
    "## Fault Areas"
   ]
  },
  {
   "cell_type": "code",
   "execution_count": null,
   "metadata": {
    "scrolled": true
   },
   "outputs": [],
   "source": [
    "data_areas = gpd.read_file('Qfaults_2018_shapefile/qfault_areas.shp')\n",
    "data_areas"
   ]
  },
  {
   "cell_type": "code",
   "execution_count": null,
   "metadata": {},
   "outputs": [],
   "source": [
    "data_areas.loc[3, 'geometry']"
   ]
  },
  {
   "cell_type": "code",
   "execution_count": 19,
   "metadata": {},
   "outputs": [
    {
     "name": "stdout",
     "output_type": "stream",
     "text": [
      "0    POLYGON ((-124.3212890625 42.032974332441, -12...\n",
      "Name: geometry, dtype: object\n"
     ]
    }
   ],
   "source": [
    "lat_point_list = [42.032974332441, 41.967659203678, 38.993572058209, 34.307143856288, 33.943359946579, 33.724339661748, 33.541394668983, 33.321348526699, 33.063924198121, 32.953368145799, 32.805744732907, 32.657875736955, 32.583849325657, 33.321348526699, 33.797408767572, 34.052659421376, 34.052659421376, 34.379712580462, 34.452218472827, 34.452218472827, 34.777715803605, 35.281500657891, 35.675147436085, 36.385912772877, 36.633162095587, 36.949891786813, 37.230328387604, 37.544577320856, 37.857507156252, 37.961523313966, 38.376115424036, 38.856820134744, 39.707186656827, 40.178873314347, 40.413496049702, 40.81380923057, 41.376808565702]\n",
    "lon_point_list = [-124.3212890625, -120.0146484375, -119.970703125, -114.08203125, -114.4775390625, -114.3896484375, -114.609375, -114.78515625, -114.78515625, -114.3896484375, -114.5654296875, -114.9609375, -116.982421875, -117.333984375, -118.037109375, -118.30078125, -119.1357421875, -119.3994140625, -119.970703125, -120.5859375, -120.673828125, -120.849609375, -121.1572265625, -121.9921875, -121.8603515625, -121.81640625, -122.34375, -122.431640625, -122.607421875, -122.958984375, -123.046875, -123.7060546875, -123.92578125, -124.2333984375, -124.453125, -124.189453125, -124.189453125]\n",
    "\n",
    "polygon_geom = Polygon(zip(lon_point_list, lat_point_list))\n",
    "crs = {'init': 'epsg:4326'}\n",
    "polygon = gpd.GeoDataFrame(index=[0], crs=crs, geometry=[polygon_geom])       \n",
    "print(polygon.geometry)\n",
    "\n",
    "polygon.to_file(filename='polygon.geojson', driver='GeoJSON')\n",
    "polygon.to_file(filename='polygon.shp', driver=\"ESRI Shapefile\")"
   ]
  },
  {
   "cell_type": "code",
   "execution_count": 20,
   "metadata": {},
   "outputs": [
    {
     "data": {
      "text/plain": [
       "<matplotlib.axes._subplots.AxesSubplot at 0x1a6abf2b848>"
      ]
     },
     "execution_count": 20,
     "metadata": {},
     "output_type": "execute_result"
    },
    {
     "data": {
      "image/png": "[encoded data removed]",
      "text/plain": [
       "<Figure size 432x288 with 1 Axes>"
      ]
     },
     "metadata": {
      "needs_background": "light"
     },
     "output_type": "display_data"
    }
   ],
   "source": [
    "%matplotlib inline\n",
    "polygon.plot()"
   ]
  },
  {
   "cell_type": "markdown",
   "metadata": {},
   "source": [
    "POLYGON ((-124.3212890625 42.032974332441, -120.0146484375 41.967659203678, -119.970703125 38.993572058209, -114.08203125 34.307143856288, -114.4775390625 33.943359946579, -114.3896484375 33.724339661748, -114.609375 33.541394668983, -114.78515625 33.321348526699, -114.78515625 33.063924198121, -114.3896484375 32.953368145799, -114.5654296875 32.805744732907, -114.9609375 32.657875736955, -116.982421875 32.583849325657, -117.333984375 33.321348526699, -118.037109375 33.797408767572, -118.30078125 34.052659421376, -119.1357421875 34.052659421376, -119.3994140625 34.379712580462, -119.970703125 34.452218472827, -120.5859375 34.452218472827, -120.673828125 34.777715803605, -120.849609375 35.281500657891, -121.1572265625 35.675147436085, -121.9921875 36.385912772877, -121.8603515625 36.633162095587, -121.81640625 36.949891786813, -122.34375 37.230328387604, -122.431640625 37.544577320856, -122.607421875 37.857507156252, -122.958984375 37.961523313966, -123.046875 38.376115424036, -123.7060546875 38.856820134744, -123.92578125 39.707186656827, -124.2333984375 40.178873314347, -124.453125 40.413496049702, -124.189453125 40.81380923057, -124.189453125 41.376808565702))"
   ]
  },
  {
   "cell_type": "code",
   "execution_count": 16,
   "metadata": {},
   "outputs": [
    {
     "data": {
      "text/html": [
       "<div>\n",
       "<style scoped>\n",
       "    .dataframe tbody tr th:only-of-type {\n",
       "        vertical-align: middle;\n",
       "    }\n",
       "\n",
       "    .dataframe tbody tr th {\n",
       "        vertical-align: top;\n",
       "    }\n",
       "\n",
       "    .dataframe thead th {\n",
       "        text-align: right;\n",
       "    }\n",
       "</style>\n",
       "<table border=\"1\" class=\"dataframe\">\n",
       "  <thead>\n",
       "    <tr style=\"text-align: right;\">\n",
       "      <th></th>\n",
       "      <th>FID</th>\n",
       "      <th>geometry</th>\n",
       "    </tr>\n",
       "  </thead>\n",
       "  <tbody>\n",
       "    <tr>\n",
       "      <th>0</th>\n",
       "      <td>0</td>\n",
       "      <td>POLYGON ((4.377184 50.854457, 13.407759 52.518...</td>\n",
       "    </tr>\n",
       "  </tbody>\n",
       "</table>\n",
       "</div>"
      ],
      "text/plain": [
       "   FID                                           geometry\n",
       "0    0  POLYGON ((4.377184 50.854457, 13.407759 52.518..."
      ]
     },
     "execution_count": 16,
     "metadata": {},
     "output_type": "execute_result"
    }
   ],
   "source": [
    "polygon"
   ]
  },
  {
   "cell_type": "markdown",
   "metadata": {},
   "source": [
    "California"
   ]
  },
  {
   "cell_type": "code",
   "execution_count": 21,
   "metadata": {},
   "outputs": [
    {
     "data": {
      "text/html": [
       "<div>\n",
       "<style scoped>\n",
       "    .dataframe tbody tr th:only-of-type {\n",
       "        vertical-align: middle;\n",
       "    }\n",
       "\n",
       "    .dataframe tbody tr th {\n",
       "        vertical-align: top;\n",
       "    }\n",
       "\n",
       "    .dataframe thead th {\n",
       "        text-align: right;\n",
       "    }\n",
       "</style>\n",
       "<table border=\"1\" class=\"dataframe\">\n",
       "  <thead>\n",
       "    <tr style=\"text-align: right;\">\n",
       "      <th></th>\n",
       "      <th>Shape_Leng</th>\n",
       "      <th>Shape_Area</th>\n",
       "      <th>geometry</th>\n",
       "    </tr>\n",
       "  </thead>\n",
       "  <tbody>\n",
       "    <tr>\n",
       "      <th>0</th>\n",
       "      <td>5.159919e+06</td>\n",
       "      <td>4.105629e+11</td>\n",
       "      <td>(POLYGON ((-117.1292837451722 32.6250541489093...</td>\n",
       "    </tr>\n",
       "  </tbody>\n",
       "</table>\n",
       "</div>"
      ],
      "text/plain": [
       "     Shape_Leng    Shape_Area  \\\n",
       "0  5.159919e+06  4.105629e+11   \n",
       "\n",
       "                                            geometry  \n",
       "0  (POLYGON ((-117.1292837451722 32.6250541489093...  "
      ]
     },
     "execution_count": 21,
     "metadata": {},
     "output_type": "execute_result"
    }
   ],
   "source": [
    "california = gpd.read_file('ark28722-s7059k-shapefile/s7059k.shp')\n",
    "california"
   ]
  },
  {
   "cell_type": "code",
   "execution_count": 22,
   "metadata": {},
   "outputs": [
    {
     "data": {
      "text/plain": [
       "<matplotlib.axes._subplots.AxesSubplot at 0x1a6abf3c588>"
      ]
     },
     "execution_count": 22,
     "metadata": {},
     "output_type": "execute_result"
    },
    {
     "data": {
      "image/png": "[encoded data removed]",
      "text/plain": [
       "<Figure size 432x288 with 1 Axes>"
      ]
     },
     "metadata": {
      "needs_background": "light"
     },
     "output_type": "display_data"
    }
   ],
   "source": [
    "%matplotlib inline\n",
    "california.plot()"
   ]
  },
  {
   "cell_type": "code",
   "execution_count": null,
   "metadata": {},
   "outputs": [],
   "source": [
    "data_csv = pd.read_csv('Qfaults_2018_shapefile/Qfaults_2018_shapefile.csv')\n",
    "print(data_csv.columns)\n",
    "len(data_csv.columns)"
   ]
  },
  {
   "cell_type": "code",
   "execution_count": null,
   "metadata": {},
   "outputs": [],
   "source": []
  },
  {
   "cell_type": "code",
   "execution_count": null,
   "metadata": {},
   "outputs": [],
   "source": [
    "data_gdb = gpd.read_file('QFaults_2018.gdb')\n",
    "print(data_gdb.columns)\n",
    "len(data_shp_all.columns)"
   ]
  },
  {
   "cell_type": "code",
   "execution_count": null,
   "metadata": {},
   "outputs": [],
   "source": [
    "%matplotlib inline\n",
    "data_shp.plot()"
   ]
  },
  {
   "cell_type": "markdown",
   "metadata": {},
   "source": [
    "## Fault Lines"
   ]
  },
  {
   "cell_type": "code",
   "execution_count": null,
   "metadata": {
    "scrolled": true
   },
   "outputs": [],
   "source": [
    "data_shp_all = gpd.read_file('Qfaults_2018_shapefile/Qfaults_2018_shapefile.shp')\n",
    "print(data_shp_all.columns)\n",
    "data_shp_all.index.name = 'Index'\n",
    "# data_shp_all\n",
    "# data_shp_all.to_csv('southern_cal_faults_USGS.csv'\n",
    "# data_shp_all[data_shp_all['ref_id'] == '1h']"
   ]
  },
  {
   "cell_type": "code",
   "execution_count": null,
   "metadata": {},
   "outputs": [],
   "source": [
    "data_shp_all"
   ]
  },
  {
   "cell_type": "code",
   "execution_count": null,
   "metadata": {},
   "outputs": [],
   "source": [
    "info = pd.read_csv('Qfaults_2018_shapefile/section_info.csv', encoding = \"ISO-8859-1\")\n",
    "references = pd.read_csv('Qfaults_2018_shapefile/references.csv', encoding = \"ISO-8859-1\")"
   ]
  },
  {
   "cell_type": "code",
   "execution_count": null,
   "metadata": {},
   "outputs": [],
   "source": [
    "info"
   ]
  },
  {
   "cell_type": "code",
   "execution_count": null,
   "metadata": {},
   "outputs": [],
   "source": [
    "info[info['earthquake'].notnull()]"
   ]
  },
  {
   "cell_type": "code",
   "execution_count": null,
   "metadata": {},
   "outputs": [],
   "source": [
    "references"
   ]
  },
  {
   "cell_type": "code",
   "execution_count": null,
   "metadata": {
    "scrolled": true
   },
   "outputs": [],
   "source": [
    "faults_w_eq = data_shp_all[data_shp_all['earthquake'].notnull()]\n",
    "faults_w_eq.index.name = 'Index'\n",
    "print(len(faults_w_eq))\n",
    "san_andreas = faults_w_eq[faults_w_eq['fault'] == 'San Andreas fault zone']\n",
    "san_andreas.index.name = 'Index'\n",
    "print(len(san_andreas))\n",
    "san_andreas.to_csv('san_andreas_faults_eq_USGS.csv')\n",
    "faults_w_eq.to_csv('southern_cal_faults_eq_USGS.csv')\n",
    "san_andreas"
   ]
  },
  {
   "cell_type": "code",
   "execution_count": null,
   "metadata": {},
   "outputs": [],
   "source": [
    "san_andreas_historic = san_andreas[san_andreas['age'] == 'historic']\n",
    "san_andreas_historic.index.name = 'Index'\n",
    "len(san_andreas_historic)\n",
    "san_andreas_historic.to_csv('san_andreas_faults_historic_eq_USGS.csv')"
   ]
  },
  {
   "cell_type": "code",
   "execution_count": null,
   "metadata": {},
   "outputs": [],
   "source": [
    "%matplotlib inline\n",
    "# data_shp.plot()\n",
    "# faults_w_eq.plot()\n",
    "plt.plot(data_shp_all['geometry'], data_gdb['geometry'])\n",
    "plt.xlim([-125,-110])\n",
    "plt.ylim([30,47])"
   ]
  },
  {
   "cell_type": "code",
   "execution_count": null,
   "metadata": {
    "scrolled": true
   },
   "outputs": [],
   "source": [
    "data_gdb = gpd.read_file('QFaults_2018.gdb')\n",
    "data_shp = gpd.read_file('Qfaults_2018_shapefile/Qfaults_2018_shapefile.shp')\n",
    "data_fauls_shp = gdp.read_file('Qfaults_2018_shapefile/qfault_areas.shp')\n",
    "data_fauls_sbn = gdp.read_file('Qfaults_2018_shapefile/qfault_areas.sbn')"
   ]
  },
  {
   "cell_type": "code",
   "execution_count": null,
   "metadata": {
    "scrolled": true
   },
   "outputs": [],
   "source": [
    "data_fauls_shp = gpd.read_file('Qfaults_2018_shapefile/qfault_areas.shp')\n",
    "data_fauls_sbn = gpd.read_file('Qfaults_2018_shapefile/qfault_areas.sbn')"
   ]
  },
  {
   "cell_type": "code",
   "execution_count": null,
   "metadata": {},
   "outputs": [],
   "source": [
    "data_fauls_shp"
   ]
  },
  {
   "cell_type": "code",
   "execution_count": null,
   "metadata": {},
   "outputs": [],
   "source": []
  },
  {
   "cell_type": "code",
   "execution_count": null,
   "metadata": {},
   "outputs": [],
   "source": [
    "info"
   ]
  },
  {
   "cell_type": "code",
   "execution_count": null,
   "metadata": {},
   "outputs": [],
   "source": [
    "references"
   ]
  },
  {
   "cell_type": "code",
   "execution_count": null,
   "metadata": {},
   "outputs": [],
   "source": []
  }
 ],
 "metadata": {
  "kernelspec": {
   "display_name": "Python 3",
   "language": "python",
   "name": "python3"
  },
  "language_info": {
   "codemirror_mode": {
    "name": "ipython",
    "version": 3
   },
   "file_extension": ".py",
   "mimetype": "text/x-python",
   "name": "python",
   "nbconvert_exporter": "python",
   "pygments_lexer": "ipython3",
   "version": "3.7.4"
  }
 },
 "nbformat": 4,
 "nbformat_minor": 2
}
